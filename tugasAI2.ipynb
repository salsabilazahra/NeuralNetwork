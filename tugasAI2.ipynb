{
  "nbformat": 4,
  "nbformat_minor": 0,
  "metadata": {
    "colab": {
      "provenance": []
    },
    "kernelspec": {
      "name": "python3",
      "display_name": "Python 3"
    },
    "language_info": {
      "name": "python"
    }
  },
  "cells": [
    {
      "cell_type": "markdown",
      "source": [
        "<h1>Classification Using Simple Neural Network</h1>"
      ],
      "metadata": {
        "id": "VATI4MiDGTsF"
      }
    },
    {
      "cell_type": "markdown",
      "source": [
        "# Input Library and Upload Dataset"
      ],
      "metadata": {
        "id": "91hupG2WGfiE"
      }
    },
    {
      "cell_type": "code",
      "execution_count": null,
      "metadata": {
        "id": "WD1qkI8oexmJ"
      },
      "outputs": [],
      "source": [
        "# Library yang digunakan\n",
        "import torch\n",
        "import torch.nn as nn\n",
        "import matplotlib.pyplot as plt\n",
        "import numpy as np\n",
        "import pandas as pd\n",
        "import torch.utils.data as td"
      ]
    },
    {
      "cell_type": "markdown",
      "source": [
        "Data yang digunakan merupakan klasifikasi jenis biji gandum berdasarkan panjang, lebar, koefisien asimetris, dan groove length"
      ],
      "metadata": {
        "id": "QMMys3vQIBtt"
      }
    },
    {
      "cell_type": "code",
      "source": [
        "wheatseeds = pd.read_csv('seeds.csv').dropna()\n",
        "\n",
        "## Untuk memudahkan klasifikasi, maka jumlah data harus diperbesar\n",
        "for i in range(1,3):\n",
        "    wheatseeds = wheatseeds.append(wheatseeds)"
      ],
      "metadata": {
        "id": "AzPAMQzRrPMz"
      },
      "execution_count": null,
      "outputs": []
    },
    {
      "cell_type": "markdown",
      "source": [
        "# Splitting Data"
      ],
      "metadata": {
        "id": "X8k-kYnlKiZ5"
      }
    },
    {
      "cell_type": "markdown",
      "source": [
        "Data yang didapat kemudian dibagi menjadi dua, yaitu untuk training dan testing. Pembagian data tersebut menggunakan rasio 70% data training dan 30% data testing."
      ],
      "metadata": {
        "id": "DBsdoIC8Rxfu"
      }
    },
    {
      "cell_type": "code",
      "source": [
        "# Menggunakan library sklearn untuk mempermudah splitting data\n",
        "from sklearn.model_selection import train_test_split\n",
        "\n",
        "seeds_classes = ['Kama', 'Rosa', 'Canadian']\n",
        "features = ['kernel_length','kernel_width','asymmetry_coefficient','groove_length']\n",
        "label = 'species'\n",
        "   \n",
        "# Data dibagi degan rasio 70:30 untuk training dan testing\n",
        "x_train, x_test, y_train, y_test = train_test_split(wheatseeds[features].values,\n",
        "                                                    wheatseeds[label].values,\n",
        "                                                    test_size=0.30,\n",
        "                                                    random_state=0)\n"
      ],
      "metadata": {
        "id": "QVI1BJz-vTSh"
      },
      "execution_count": null,
      "outputs": []
    },
    {
      "cell_type": "markdown",
      "source": [
        "# Prepare Data with Pytorch"
      ],
      "metadata": {
        "id": "6Y9KrvqkRUv8"
      }
    },
    {
      "cell_type": "markdown",
      "source": [
        "Baik data training maupun testing kemudian diubah ke dalam bentuk tensor menggunakan Pytorch. Fungsinya adalah untuk menyimpan dan melakukan operasi dengan multidimensional data."
      ],
      "metadata": {
        "id": "OtSCP9bqSEn7"
      }
    },
    {
      "cell_type": "code",
      "source": [
        "# Data training dalam tensor\n",
        "train_x = torch.Tensor(x_train).float()\n",
        "train_y = torch.Tensor(y_train).long()\n",
        "train_ds = td.TensorDataset(train_x,train_y)\n",
        "train_loader = td.DataLoader(train_ds, batch_size=20,\n",
        "    shuffle=False, num_workers=1)\n",
        "\n",
        "# Data testing dalam tensor\n",
        "test_x = torch.Tensor(x_test).float()\n",
        "test_y = torch.Tensor(y_test).long()\n",
        "test_ds = td.TensorDataset(test_x,test_y)\n",
        "test_loader = td.DataLoader(test_ds, batch_size=20,\n",
        "    shuffle=False, num_workers=1)"
      ],
      "metadata": {
        "id": "zu7wnDjPp-Zv"
      },
      "execution_count": null,
      "outputs": []
    },
    {
      "cell_type": "markdown",
      "source": [
        "# Neural Network"
      ],
      "metadata": {
        "id": "rmT6tDVqVSrc"
      }
    },
    {
      "cell_type": "markdown",
      "source": [
        "Neural network yang digunakan memiliki 2 layer yaitu layer input dan layer output yang masing-masing terhubung dengan hidden layer berjumlah 10. Layer input menerima nilai input data untuk setiap atribut yang diteruskan ke hidden layer menggunakan activation function (sigmoid). Sedangkan output layer menghasilkan nilai output dari hidden layer."
      ],
      "metadata": {
        "id": "rVLKP9yWWFKG"
      }
    },
    {
      "cell_type": "code",
      "source": [
        "# jumlah fitur/atribut yang digunakan\n",
        "input_dim = len(features)\n",
        "\n",
        "# jumlah hidden layer\n",
        "hidden_layers = 10\n",
        "\n",
        "# jumlah kelas\n",
        "output_dim = len(seeds_classes)\n",
        "\n",
        "# Neural Network\n",
        "class Network(nn.Module):\n",
        "  def __init__(self):\n",
        "    super(Network, self).__init__()\n",
        "    self.linear1 = nn.Linear(input_dim, hidden_layers)\n",
        "    self.linear2 = nn.Linear(hidden_layers, output_dim)\n",
        "  def forward(self, x):\n",
        "    x = torch.sigmoid(self.linear1(x))\n",
        "    x = self.linear2(x)\n",
        "    return x"
      ],
      "metadata": {
        "id": "ImXArgl6f9Z9"
      },
      "execution_count": null,
      "outputs": []
    },
    {
      "cell_type": "markdown",
      "source": [
        "Untuk menghitung loss, digunakan fungsi Cross Entropy Loss dan dan akan dioptimisasi menggunakan Stochastic Gradient Descent (SGD)"
      ],
      "metadata": {
        "id": "GvSoySqsXJm4"
      }
    },
    {
      "cell_type": "code",
      "source": [
        "model = Network()\n",
        "# Fungsi Losses\n",
        "criterion = nn.CrossEntropyLoss()\n",
        "\n",
        "# Fungsi optimisasi menggunakan SGD\n",
        "optimizer = torch.optim.SGD(model.parameters(), lr=0.01)\n",
        "optimizer.zero_grad()"
      ],
      "metadata": {
        "id": "sOLpjgCPtGHG"
      },
      "execution_count": null,
      "outputs": []
    },
    {
      "cell_type": "markdown",
      "source": [
        "# Training and Testing"
      ],
      "metadata": {
        "id": "vBBv2BDnVYC7"
      }
    },
    {
      "cell_type": "markdown",
      "source": [
        "Training data menggunakan data set yang telah diinisiasi sebelumnya, kemudian akan dihitung loss dengan cara feedforward. Setelah itu, model akan dioptimisasi secara backward dengan menyesuaikan weight dan biasnya."
      ],
      "metadata": {
        "id": "VwdNs6DYYUK7"
      }
    },
    {
      "cell_type": "code",
      "source": [
        "def train(model, data_loader, optimizer):\n",
        "    model.train()\n",
        "    trainloss = 0\n",
        "    \n",
        "    for batch, tensor in enumerate(data_loader):\n",
        "        data, target = tensor\n",
        "\n",
        "        #feedforward\n",
        "        optimizer.zero_grad()\n",
        "        out = model(data)\n",
        "        loss = criterion(out, target)\n",
        "        trainloss += loss.item()\n",
        "\n",
        "        # optimisasi secara backward\n",
        "        loss.backward()\n",
        "        optimizer.step()\n",
        "\n",
        "    # average loss\n",
        "    avgloss = trainloss / (batch+1)\n",
        "    print('Training data loss: {:.6f}'.format(avgloss))\n",
        "    return avgloss"
      ],
      "metadata": {
        "id": "DibFqNH0s9zc"
      },
      "execution_count": null,
      "outputs": []
    },
    {
      "cell_type": "code",
      "source": [
        "def test(model, data_loader):\n",
        "    model.eval()\n",
        "    test_loss = 0\n",
        "    correct = 0\n",
        "\n",
        "    with torch.no_grad():\n",
        "        batch_count = 0\n",
        "        for batch, tensor in enumerate(data_loader):\n",
        "            batch_count += 1\n",
        "            data, target = tensor\n",
        "            # Output model (prediksi)\n",
        "            out = model(data)\n",
        "\n",
        "            # loss\n",
        "            test_loss += criterion(out, target).item()\n",
        "\n",
        "            # akurasi\n",
        "            _, predicted = torch.max(out.data, 1)\n",
        "            correct += torch.sum(target==predicted).item()\n",
        "            \n",
        "    # average loss dan akurasi total\n",
        "    avgloss = test_loss/batch_count\n",
        "    print('Testing data loss: {:.6f}, Accuracy: {}/{} ({:.0f}%)\\n'.format(\n",
        "        avgloss, correct, len(data_loader.dataset),\n",
        "        100. * correct / len(data_loader.dataset)))\n",
        "    \n",
        "    # return average loss for the epoch\n",
        "    return avgloss"
      ],
      "metadata": {
        "id": "294G_y3NjXUu"
      },
      "execution_count": null,
      "outputs": []
    },
    {
      "cell_type": "markdown",
      "source": [
        "Menghitung loss dari training data dengan epoch = 200"
      ],
      "metadata": {
        "id": "WZV1_luwbISi"
      }
    },
    {
      "cell_type": "code",
      "source": [
        "epoch_nums = []\n",
        "training_loss = []\n",
        "testing_loss = []\n",
        "\n",
        "# Training data dilakukan sebanyak 200 epoch\n",
        "epochs = 150\n",
        "for epoch in range(1, epochs + 1):\n",
        "\n",
        "    print('Epoch: {}'.format(epoch))\n",
        "    \n",
        "    # Fungsi loss untuk data training\n",
        "    train_loss = train(model, train_loader, optimizer)\n",
        "\n",
        "    test_loss = test(model, test_loader)\n",
        "    \n",
        "    epoch_nums.append(epoch)\n",
        "    training_loss.append(train_loss)\n",
        "    testing_loss.append(test_loss)"
      ],
      "metadata": {
        "colab": {
          "base_uri": "https://localhost:8080/"
        },
        "id": "o5tB0KHhhEii",
        "outputId": "b5ec3c16-7aca-4e03-8e0e-1a21097ae943"
      },
      "execution_count": null,
      "outputs": [
        {
          "output_type": "stream",
          "name": "stdout",
          "text": [
            "Epoch: 1\n",
            "Training data loss: 0.718687\n",
            "Testing data loss: 0.729193, Accuracy: 168/252 (67%)\n",
            "\n",
            "Epoch: 2\n",
            "Training data loss: 0.717851\n",
            "Testing data loss: 0.728466, Accuracy: 168/252 (67%)\n",
            "\n",
            "Epoch: 3\n",
            "Training data loss: 0.717015\n",
            "Testing data loss: 0.727737, Accuracy: 168/252 (67%)\n",
            "\n",
            "Epoch: 4\n",
            "Training data loss: 0.716178\n",
            "Testing data loss: 0.727006, Accuracy: 168/252 (67%)\n",
            "\n",
            "Epoch: 5\n",
            "Training data loss: 0.715341\n",
            "Testing data loss: 0.726273, Accuracy: 168/252 (67%)\n",
            "\n",
            "Epoch: 6\n",
            "Training data loss: 0.714502\n",
            "Testing data loss: 0.725539, Accuracy: 168/252 (67%)\n",
            "\n",
            "Epoch: 7\n",
            "Training data loss: 0.713663\n",
            "Testing data loss: 0.724803, Accuracy: 168/252 (67%)\n",
            "\n",
            "Epoch: 8\n",
            "Training data loss: 0.712822\n",
            "Testing data loss: 0.724065, Accuracy: 169/252 (67%)\n",
            "\n",
            "Epoch: 9\n",
            "Training data loss: 0.711981\n",
            "Testing data loss: 0.723325, Accuracy: 169/252 (67%)\n",
            "\n",
            "Epoch: 10\n",
            "Training data loss: 0.711139\n",
            "Testing data loss: 0.722583, Accuracy: 171/252 (68%)\n",
            "\n",
            "Epoch: 11\n",
            "Training data loss: 0.710295\n",
            "Testing data loss: 0.721840, Accuracy: 171/252 (68%)\n",
            "\n",
            "Epoch: 12\n",
            "Training data loss: 0.709451\n",
            "Testing data loss: 0.721095, Accuracy: 171/252 (68%)\n",
            "\n",
            "Epoch: 13\n",
            "Training data loss: 0.708606\n",
            "Testing data loss: 0.720347, Accuracy: 171/252 (68%)\n",
            "\n",
            "Epoch: 14\n",
            "Training data loss: 0.707759\n",
            "Testing data loss: 0.719598, Accuracy: 171/252 (68%)\n",
            "\n",
            "Epoch: 15\n",
            "Training data loss: 0.706912\n",
            "Testing data loss: 0.718847, Accuracy: 171/252 (68%)\n",
            "\n",
            "Epoch: 16\n",
            "Training data loss: 0.706063\n",
            "Testing data loss: 0.718094, Accuracy: 171/252 (68%)\n",
            "\n",
            "Epoch: 17\n",
            "Training data loss: 0.705214\n",
            "Testing data loss: 0.717339, Accuracy: 171/252 (68%)\n",
            "\n",
            "Epoch: 18\n",
            "Training data loss: 0.704363\n",
            "Testing data loss: 0.716581, Accuracy: 171/252 (68%)\n",
            "\n",
            "Epoch: 19\n",
            "Training data loss: 0.703511\n",
            "Testing data loss: 0.715822, Accuracy: 171/252 (68%)\n",
            "\n",
            "Epoch: 20\n",
            "Training data loss: 0.702658\n",
            "Testing data loss: 0.715061, Accuracy: 171/252 (68%)\n",
            "\n",
            "Epoch: 21\n",
            "Training data loss: 0.701803\n",
            "Testing data loss: 0.714298, Accuracy: 171/252 (68%)\n",
            "\n",
            "Epoch: 22\n",
            "Training data loss: 0.700948\n",
            "Testing data loss: 0.713533, Accuracy: 171/252 (68%)\n",
            "\n",
            "Epoch: 23\n",
            "Training data loss: 0.700091\n",
            "Testing data loss: 0.712765, Accuracy: 171/252 (68%)\n",
            "\n",
            "Epoch: 24\n",
            "Training data loss: 0.699233\n",
            "Testing data loss: 0.711996, Accuracy: 171/252 (68%)\n",
            "\n",
            "Epoch: 25\n",
            "Training data loss: 0.698374\n",
            "Testing data loss: 0.711224, Accuracy: 171/252 (68%)\n",
            "\n",
            "Epoch: 26\n",
            "Training data loss: 0.697513\n",
            "Testing data loss: 0.710451, Accuracy: 171/252 (68%)\n",
            "\n",
            "Epoch: 27\n",
            "Training data loss: 0.696651\n",
            "Testing data loss: 0.709675, Accuracy: 171/252 (68%)\n",
            "\n",
            "Epoch: 28\n",
            "Training data loss: 0.695788\n",
            "Testing data loss: 0.708897, Accuracy: 171/252 (68%)\n",
            "\n",
            "Epoch: 29\n",
            "Training data loss: 0.694923\n",
            "Testing data loss: 0.708117, Accuracy: 171/252 (68%)\n",
            "\n",
            "Epoch: 30\n",
            "Training data loss: 0.694057\n",
            "Testing data loss: 0.707335, Accuracy: 173/252 (69%)\n",
            "\n",
            "Epoch: 31\n",
            "Training data loss: 0.693190\n",
            "Testing data loss: 0.706550, Accuracy: 173/252 (69%)\n",
            "\n",
            "Epoch: 32\n",
            "Training data loss: 0.692321\n",
            "Testing data loss: 0.705764, Accuracy: 173/252 (69%)\n",
            "\n",
            "Epoch: 33\n",
            "Training data loss: 0.691451\n",
            "Testing data loss: 0.704975, Accuracy: 173/252 (69%)\n",
            "\n",
            "Epoch: 34\n",
            "Training data loss: 0.690579\n",
            "Testing data loss: 0.704184, Accuracy: 173/252 (69%)\n",
            "\n",
            "Epoch: 35\n",
            "Training data loss: 0.689706\n",
            "Testing data loss: 0.703391, Accuracy: 173/252 (69%)\n",
            "\n",
            "Epoch: 36\n",
            "Training data loss: 0.688831\n",
            "Testing data loss: 0.702595, Accuracy: 175/252 (69%)\n",
            "\n",
            "Epoch: 37\n",
            "Training data loss: 0.687955\n",
            "Testing data loss: 0.701798, Accuracy: 175/252 (69%)\n",
            "\n",
            "Epoch: 38\n",
            "Training data loss: 0.687078\n",
            "Testing data loss: 0.700998, Accuracy: 177/252 (70%)\n",
            "\n",
            "Epoch: 39\n",
            "Training data loss: 0.686199\n",
            "Testing data loss: 0.700196, Accuracy: 177/252 (70%)\n",
            "\n",
            "Epoch: 40\n",
            "Training data loss: 0.685319\n",
            "Testing data loss: 0.699391, Accuracy: 178/252 (71%)\n",
            "\n",
            "Epoch: 41\n",
            "Training data loss: 0.684437\n",
            "Testing data loss: 0.698585, Accuracy: 178/252 (71%)\n",
            "\n",
            "Epoch: 42\n",
            "Training data loss: 0.683553\n",
            "Testing data loss: 0.697776, Accuracy: 179/252 (71%)\n",
            "\n",
            "Epoch: 43\n",
            "Training data loss: 0.682668\n",
            "Testing data loss: 0.696965, Accuracy: 179/252 (71%)\n",
            "\n",
            "Epoch: 44\n",
            "Training data loss: 0.681782\n",
            "Testing data loss: 0.696152, Accuracy: 179/252 (71%)\n",
            "\n",
            "Epoch: 45\n",
            "Training data loss: 0.680894\n",
            "Testing data loss: 0.695336, Accuracy: 179/252 (71%)\n",
            "\n",
            "Epoch: 46\n",
            "Training data loss: 0.680004\n",
            "Testing data loss: 0.694518, Accuracy: 179/252 (71%)\n",
            "\n",
            "Epoch: 47\n",
            "Training data loss: 0.679113\n",
            "Testing data loss: 0.693698, Accuracy: 179/252 (71%)\n",
            "\n",
            "Epoch: 48\n",
            "Training data loss: 0.678220\n",
            "Testing data loss: 0.692875, Accuracy: 181/252 (72%)\n",
            "\n",
            "Epoch: 49\n",
            "Training data loss: 0.677326\n",
            "Testing data loss: 0.692050, Accuracy: 181/252 (72%)\n",
            "\n",
            "Epoch: 50\n",
            "Training data loss: 0.676430\n",
            "Testing data loss: 0.691223, Accuracy: 181/252 (72%)\n",
            "\n",
            "Epoch: 51\n",
            "Training data loss: 0.675532\n",
            "Testing data loss: 0.690394, Accuracy: 181/252 (72%)\n",
            "\n",
            "Epoch: 52\n",
            "Training data loss: 0.674633\n",
            "Testing data loss: 0.689562, Accuracy: 181/252 (72%)\n",
            "\n",
            "Epoch: 53\n",
            "Training data loss: 0.673732\n",
            "Testing data loss: 0.688728, Accuracy: 181/252 (72%)\n",
            "\n",
            "Epoch: 54\n",
            "Training data loss: 0.672830\n",
            "Testing data loss: 0.687892, Accuracy: 181/252 (72%)\n",
            "\n",
            "Epoch: 55\n",
            "Training data loss: 0.671926\n",
            "Testing data loss: 0.687054, Accuracy: 181/252 (72%)\n",
            "\n",
            "Epoch: 56\n",
            "Training data loss: 0.671020\n",
            "Testing data loss: 0.686213, Accuracy: 184/252 (73%)\n",
            "\n",
            "Epoch: 57\n",
            "Training data loss: 0.670113\n",
            "Testing data loss: 0.685369, Accuracy: 184/252 (73%)\n",
            "\n",
            "Epoch: 58\n",
            "Training data loss: 0.669204\n",
            "Testing data loss: 0.684524, Accuracy: 184/252 (73%)\n",
            "\n",
            "Epoch: 59\n",
            "Training data loss: 0.668293\n",
            "Testing data loss: 0.683676, Accuracy: 184/252 (73%)\n",
            "\n",
            "Epoch: 60\n",
            "Training data loss: 0.667381\n",
            "Testing data loss: 0.682826, Accuracy: 184/252 (73%)\n",
            "\n",
            "Epoch: 61\n",
            "Training data loss: 0.666467\n",
            "Testing data loss: 0.681974, Accuracy: 184/252 (73%)\n",
            "\n",
            "Epoch: 62\n",
            "Training data loss: 0.665551\n",
            "Testing data loss: 0.681119, Accuracy: 184/252 (73%)\n",
            "\n",
            "Epoch: 63\n",
            "Training data loss: 0.664634\n",
            "Testing data loss: 0.680262, Accuracy: 184/252 (73%)\n",
            "\n",
            "Epoch: 64\n",
            "Training data loss: 0.663715\n",
            "Testing data loss: 0.679403, Accuracy: 184/252 (73%)\n",
            "\n",
            "Epoch: 65\n",
            "Training data loss: 0.662795\n",
            "Testing data loss: 0.678541, Accuracy: 184/252 (73%)\n",
            "\n",
            "Epoch: 66\n",
            "Training data loss: 0.661872\n",
            "Testing data loss: 0.677677, Accuracy: 184/252 (73%)\n",
            "\n",
            "Epoch: 67\n",
            "Training data loss: 0.660949\n",
            "Testing data loss: 0.676811, Accuracy: 184/252 (73%)\n",
            "\n",
            "Epoch: 68\n",
            "Training data loss: 0.660023\n",
            "Testing data loss: 0.675942, Accuracy: 184/252 (73%)\n",
            "\n",
            "Epoch: 69\n",
            "Training data loss: 0.659096\n",
            "Testing data loss: 0.675072, Accuracy: 184/252 (73%)\n",
            "\n",
            "Epoch: 70\n",
            "Training data loss: 0.658167\n",
            "Testing data loss: 0.674198, Accuracy: 184/252 (73%)\n",
            "\n",
            "Epoch: 71\n",
            "Training data loss: 0.657236\n",
            "Testing data loss: 0.673323, Accuracy: 186/252 (74%)\n",
            "\n",
            "Epoch: 72\n",
            "Training data loss: 0.656304\n",
            "Testing data loss: 0.672446, Accuracy: 186/252 (74%)\n",
            "\n",
            "Epoch: 73\n",
            "Training data loss: 0.655370\n",
            "Testing data loss: 0.671566, Accuracy: 186/252 (74%)\n",
            "\n",
            "Epoch: 74\n",
            "Training data loss: 0.654435\n",
            "Testing data loss: 0.670684, Accuracy: 186/252 (74%)\n",
            "\n",
            "Epoch: 75\n",
            "Training data loss: 0.653498\n",
            "Testing data loss: 0.669799, Accuracy: 186/252 (74%)\n",
            "\n",
            "Epoch: 76\n",
            "Training data loss: 0.652559\n",
            "Testing data loss: 0.668913, Accuracy: 186/252 (74%)\n",
            "\n",
            "Epoch: 77\n",
            "Training data loss: 0.651618\n",
            "Testing data loss: 0.668024, Accuracy: 187/252 (74%)\n",
            "\n",
            "Epoch: 78\n",
            "Training data loss: 0.650676\n",
            "Testing data loss: 0.667133, Accuracy: 187/252 (74%)\n",
            "\n",
            "Epoch: 79\n",
            "Training data loss: 0.649732\n",
            "Testing data loss: 0.666239, Accuracy: 187/252 (74%)\n",
            "\n",
            "Epoch: 80\n",
            "Training data loss: 0.648787\n",
            "Testing data loss: 0.665344, Accuracy: 187/252 (74%)\n",
            "\n",
            "Epoch: 81\n",
            "Training data loss: 0.647840\n",
            "Testing data loss: 0.664446, Accuracy: 187/252 (74%)\n",
            "\n",
            "Epoch: 82\n",
            "Training data loss: 0.646891\n",
            "Testing data loss: 0.663546, Accuracy: 187/252 (74%)\n",
            "\n",
            "Epoch: 83\n",
            "Training data loss: 0.645941\n",
            "Testing data loss: 0.662644, Accuracy: 187/252 (74%)\n",
            "\n",
            "Epoch: 84\n",
            "Training data loss: 0.644989\n",
            "Testing data loss: 0.661739, Accuracy: 187/252 (74%)\n",
            "\n",
            "Epoch: 85\n",
            "Training data loss: 0.644035\n",
            "Testing data loss: 0.660833, Accuracy: 187/252 (74%)\n",
            "\n",
            "Epoch: 86\n",
            "Training data loss: 0.643080\n",
            "Testing data loss: 0.659924, Accuracy: 187/252 (74%)\n",
            "\n",
            "Epoch: 87\n",
            "Training data loss: 0.642123\n",
            "Testing data loss: 0.659013, Accuracy: 187/252 (74%)\n",
            "\n",
            "Epoch: 88\n",
            "Training data loss: 0.641165\n",
            "Testing data loss: 0.658100, Accuracy: 188/252 (75%)\n",
            "\n",
            "Epoch: 89\n",
            "Training data loss: 0.640205\n",
            "Testing data loss: 0.657185, Accuracy: 190/252 (75%)\n",
            "\n",
            "Epoch: 90\n",
            "Training data loss: 0.639244\n",
            "Testing data loss: 0.656268, Accuracy: 190/252 (75%)\n",
            "\n",
            "Epoch: 91\n",
            "Training data loss: 0.638281\n",
            "Testing data loss: 0.655349, Accuracy: 190/252 (75%)\n",
            "\n",
            "Epoch: 92\n",
            "Training data loss: 0.637316\n",
            "Testing data loss: 0.654427, Accuracy: 190/252 (75%)\n",
            "\n",
            "Epoch: 93\n",
            "Training data loss: 0.636350\n",
            "Testing data loss: 0.653504, Accuracy: 190/252 (75%)\n",
            "\n",
            "Epoch: 94\n",
            "Training data loss: 0.635382\n",
            "Testing data loss: 0.652578, Accuracy: 192/252 (76%)\n",
            "\n",
            "Epoch: 95\n",
            "Training data loss: 0.634413\n",
            "Testing data loss: 0.651650, Accuracy: 192/252 (76%)\n",
            "\n",
            "Epoch: 96\n",
            "Training data loss: 0.633442\n",
            "Testing data loss: 0.650720, Accuracy: 194/252 (77%)\n",
            "\n",
            "Epoch: 97\n",
            "Training data loss: 0.632469\n",
            "Testing data loss: 0.649789, Accuracy: 194/252 (77%)\n",
            "\n",
            "Epoch: 98\n",
            "Training data loss: 0.631496\n",
            "Testing data loss: 0.648855, Accuracy: 194/252 (77%)\n",
            "\n",
            "Epoch: 99\n",
            "Training data loss: 0.630520\n",
            "Testing data loss: 0.647919, Accuracy: 194/252 (77%)\n",
            "\n",
            "Epoch: 100\n",
            "Training data loss: 0.629543\n",
            "Testing data loss: 0.646981, Accuracy: 194/252 (77%)\n",
            "\n",
            "Epoch: 101\n",
            "Training data loss: 0.628565\n",
            "Testing data loss: 0.646041, Accuracy: 194/252 (77%)\n",
            "\n",
            "Epoch: 102\n",
            "Training data loss: 0.627585\n",
            "Testing data loss: 0.645099, Accuracy: 194/252 (77%)\n",
            "\n",
            "Epoch: 103\n",
            "Training data loss: 0.626604\n",
            "Testing data loss: 0.644156, Accuracy: 194/252 (77%)\n",
            "\n",
            "Epoch: 104\n",
            "Training data loss: 0.625622\n",
            "Testing data loss: 0.643210, Accuracy: 194/252 (77%)\n",
            "\n",
            "Epoch: 105\n",
            "Training data loss: 0.624637\n",
            "Testing data loss: 0.642262, Accuracy: 194/252 (77%)\n",
            "\n",
            "Epoch: 106\n",
            "Training data loss: 0.623652\n",
            "Testing data loss: 0.641313, Accuracy: 194/252 (77%)\n",
            "\n",
            "Epoch: 107\n",
            "Training data loss: 0.622665\n",
            "Testing data loss: 0.640361, Accuracy: 195/252 (77%)\n",
            "\n",
            "Epoch: 108\n",
            "Training data loss: 0.621677\n",
            "Testing data loss: 0.639408, Accuracy: 195/252 (77%)\n",
            "\n",
            "Epoch: 109\n",
            "Training data loss: 0.620687\n",
            "Testing data loss: 0.638453, Accuracy: 195/252 (77%)\n",
            "\n",
            "Epoch: 110\n",
            "Training data loss: 0.619696\n",
            "Testing data loss: 0.637496, Accuracy: 195/252 (77%)\n",
            "\n",
            "Epoch: 111\n",
            "Training data loss: 0.618704\n",
            "Testing data loss: 0.636537, Accuracy: 195/252 (77%)\n",
            "\n",
            "Epoch: 112\n",
            "Training data loss: 0.617710\n",
            "Testing data loss: 0.635576, Accuracy: 195/252 (77%)\n",
            "\n",
            "Epoch: 113\n",
            "Training data loss: 0.616715\n",
            "Testing data loss: 0.634614, Accuracy: 195/252 (77%)\n",
            "\n",
            "Epoch: 114\n",
            "Training data loss: 0.615718\n",
            "Testing data loss: 0.633650, Accuracy: 195/252 (77%)\n",
            "\n",
            "Epoch: 115\n",
            "Training data loss: 0.614721\n",
            "Testing data loss: 0.632684, Accuracy: 199/252 (79%)\n",
            "\n",
            "Epoch: 116\n",
            "Training data loss: 0.613722\n",
            "Testing data loss: 0.631716, Accuracy: 199/252 (79%)\n",
            "\n",
            "Epoch: 117\n",
            "Training data loss: 0.612722\n",
            "Testing data loss: 0.630746, Accuracy: 201/252 (80%)\n",
            "\n",
            "Epoch: 118\n",
            "Training data loss: 0.611720\n",
            "Testing data loss: 0.629775, Accuracy: 201/252 (80%)\n",
            "\n",
            "Epoch: 119\n",
            "Training data loss: 0.610718\n",
            "Testing data loss: 0.628802, Accuracy: 201/252 (80%)\n",
            "\n",
            "Epoch: 120\n",
            "Training data loss: 0.609714\n",
            "Testing data loss: 0.627828, Accuracy: 201/252 (80%)\n",
            "\n",
            "Epoch: 121\n",
            "Training data loss: 0.608709\n",
            "Testing data loss: 0.626852, Accuracy: 202/252 (80%)\n",
            "\n",
            "Epoch: 122\n",
            "Training data loss: 0.607702\n",
            "Testing data loss: 0.625874, Accuracy: 202/252 (80%)\n",
            "\n",
            "Epoch: 123\n",
            "Training data loss: 0.606695\n",
            "Testing data loss: 0.624894, Accuracy: 203/252 (81%)\n",
            "\n",
            "Epoch: 124\n",
            "Training data loss: 0.605686\n",
            "Testing data loss: 0.623913, Accuracy: 203/252 (81%)\n",
            "\n",
            "Epoch: 125\n",
            "Training data loss: 0.604677\n",
            "Testing data loss: 0.622931, Accuracy: 203/252 (81%)\n",
            "\n",
            "Epoch: 126\n",
            "Training data loss: 0.603666\n",
            "Testing data loss: 0.621947, Accuracy: 203/252 (81%)\n",
            "\n",
            "Epoch: 127\n",
            "Training data loss: 0.602654\n",
            "Testing data loss: 0.620961, Accuracy: 203/252 (81%)\n",
            "\n",
            "Epoch: 128\n",
            "Training data loss: 0.601641\n",
            "Testing data loss: 0.619974, Accuracy: 203/252 (81%)\n",
            "\n",
            "Epoch: 129\n",
            "Training data loss: 0.600627\n",
            "Testing data loss: 0.618985, Accuracy: 203/252 (81%)\n",
            "\n",
            "Epoch: 130\n",
            "Training data loss: 0.599612\n",
            "Testing data loss: 0.617995, Accuracy: 203/252 (81%)\n",
            "\n",
            "Epoch: 131\n",
            "Training data loss: 0.598595\n",
            "Testing data loss: 0.617003, Accuracy: 203/252 (81%)\n",
            "\n",
            "Epoch: 132\n",
            "Training data loss: 0.597578\n",
            "Testing data loss: 0.616010, Accuracy: 203/252 (81%)\n",
            "\n",
            "Epoch: 133\n",
            "Training data loss: 0.596560\n",
            "Testing data loss: 0.615016, Accuracy: 204/252 (81%)\n",
            "\n",
            "Epoch: 134\n",
            "Training data loss: 0.595541\n",
            "Testing data loss: 0.614020, Accuracy: 204/252 (81%)\n",
            "\n",
            "Epoch: 135\n",
            "Training data loss: 0.594521\n",
            "Testing data loss: 0.613023, Accuracy: 204/252 (81%)\n",
            "\n",
            "Epoch: 136\n",
            "Training data loss: 0.593500\n",
            "Testing data loss: 0.612024, Accuracy: 206/252 (82%)\n",
            "\n",
            "Epoch: 137\n",
            "Training data loss: 0.592478\n",
            "Testing data loss: 0.611024, Accuracy: 206/252 (82%)\n",
            "\n",
            "Epoch: 138\n",
            "Training data loss: 0.591455\n",
            "Testing data loss: 0.610023, Accuracy: 206/252 (82%)\n",
            "\n",
            "Epoch: 139\n",
            "Training data loss: 0.590431\n",
            "Testing data loss: 0.609020, Accuracy: 206/252 (82%)\n",
            "\n",
            "Epoch: 140\n",
            "Training data loss: 0.589406\n",
            "Testing data loss: 0.608017, Accuracy: 206/252 (82%)\n",
            "\n",
            "Epoch: 141\n",
            "Training data loss: 0.588381\n",
            "Testing data loss: 0.607012, Accuracy: 206/252 (82%)\n",
            "\n",
            "Epoch: 142\n",
            "Training data loss: 0.587354\n",
            "Testing data loss: 0.606005, Accuracy: 206/252 (82%)\n",
            "\n",
            "Epoch: 143\n",
            "Training data loss: 0.586327\n",
            "Testing data loss: 0.604998, Accuracy: 206/252 (82%)\n",
            "\n",
            "Epoch: 144\n",
            "Training data loss: 0.585299\n",
            "Testing data loss: 0.603989, Accuracy: 206/252 (82%)\n",
            "\n",
            "Epoch: 145\n",
            "Training data loss: 0.584271\n",
            "Testing data loss: 0.602980, Accuracy: 206/252 (82%)\n",
            "\n",
            "Epoch: 146\n",
            "Training data loss: 0.583241\n",
            "Testing data loss: 0.601969, Accuracy: 206/252 (82%)\n",
            "\n",
            "Epoch: 147\n",
            "Training data loss: 0.582211\n",
            "Testing data loss: 0.600957, Accuracy: 206/252 (82%)\n",
            "\n",
            "Epoch: 148\n",
            "Training data loss: 0.581180\n",
            "Testing data loss: 0.599944, Accuracy: 207/252 (82%)\n",
            "\n",
            "Epoch: 149\n",
            "Training data loss: 0.580149\n",
            "Testing data loss: 0.598930, Accuracy: 210/252 (83%)\n",
            "\n",
            "Epoch: 150\n",
            "Training data loss: 0.579117\n",
            "Testing data loss: 0.597915, Accuracy: 210/252 (83%)\n",
            "\n"
          ]
        }
      ]
    },
    {
      "cell_type": "code",
      "source": [
        "plt.plot(epoch_nums, training_loss)\n",
        "plt.plot(epoch_nums, testing_loss)\n",
        "plt.xlabel('epoch')\n",
        "plt.ylabel('loss')\n",
        "plt.legend(['training', 'testing'], loc='upper right')\n",
        "plt.show()"
      ],
      "metadata": {
        "colab": {
          "base_uri": "https://localhost:8080/",
          "height": 279
        },
        "id": "NSRoTuTBiiQ4",
        "outputId": "3015ff0d-ca30-40d0-f83e-d343c508decb"
      },
      "execution_count": null,
      "outputs": [
        {
          "output_type": "display_data",
          "data": {
            "text/plain": [
              "<Figure size 432x288 with 1 Axes>"
            ],
            "image/png": "[encoded data removed]"
          },
          "metadata": {
            "needs_background": "light"
          }
        }
      ]
    },
    {
      "cell_type": "code",
      "source": [
        "# Menyimpan model training\n",
        "model_file = 'wheatseeds_classifier.pt'\n",
        "torch.save(model.state_dict(), model_file)\n",
        "del model\n",
        "print('model saved as', model_file)"
      ],
      "metadata": {
        "colab": {
          "base_uri": "https://localhost:8080/"
        },
        "id": "bP3b7YTciTcJ",
        "outputId": "e84c773f-2a92-48f7-8e6d-064b18f7ba9d"
      },
      "execution_count": null,
      "outputs": [
        {
          "output_type": "stream",
          "name": "stdout",
          "text": [
            "model saved as wheatseeds_classifier.pt\n"
          ]
        }
      ]
    },
    {
      "cell_type": "markdown",
      "source": [
        "Testing data menggunakan model yang sudah disimpan"
      ],
      "metadata": {
        "id": "5O5q-uDPgS66"
      }
    },
    {
      "cell_type": "code",
      "source": [
        "dataiter = iter(test_loader)\n",
        "inputs, labels = dataiter.next() \n",
        "\n",
        "model = Network()\n",
        "model.load_state_dict(torch.load(model_file))\n",
        "outputs = model(inputs)\n",
        "__, predicted = torch.max(outputs, 1)"
      ],
      "metadata": {
        "id": "hgCnyWV70ZGB"
      },
      "execution_count": null,
      "outputs": []
    },
    {
      "cell_type": "code",
      "source": [
        "# Menghitung akurasi\n",
        "correct, total = 0, 0\n",
        "\n",
        "with torch.no_grad():\n",
        "  for data in test_loader:\n",
        "    inputs, labels = data\n",
        "    outputs = model(inputs)\n",
        "    __, predicted = torch.max(outputs.data, 1)\n",
        "    # update results\n",
        "    total += labels.size(0)\n",
        "    correct += (predicted == labels).sum().item()\n",
        "    print(f'Akurasi neural network: {100 * correct // total} %')\n",
        "print(f'Akurasi neural network pada {len(test_ds)} test data: {100 * correct // total} %')"
      ],
      "metadata": {
        "colab": {
          "base_uri": "https://localhost:8080/"
        },
        "id": "8rMUqwpY3Osc",
        "outputId": "832d2701-97a0-446c-b18a-b3b50b46e4e1"
      },
      "execution_count": null,
      "outputs": [
        {
          "output_type": "stream",
          "name": "stdout",
          "text": [
            "Akurasi neural network: 60 %\n",
            "Akurasi neural network: 75 %\n",
            "Akurasi neural network: 73 %\n",
            "Akurasi neural network: 72 %\n",
            "Akurasi neural network: 73 %\n",
            "Akurasi neural network: 73 %\n",
            "Akurasi neural network: 72 %\n",
            "Akurasi neural network: 72 %\n",
            "Akurasi neural network: 71 %\n",
            "Akurasi neural network: 69 %\n",
            "Akurasi neural network: 69 %\n",
            "Akurasi neural network: 67 %\n",
            "Akurasi neural network: 69 %\n",
            "Akurasi neural network pada 252 test data: 69 %\n"
          ]
        }
      ]
    },
    {
      "cell_type": "markdown",
      "source": [
        "# Evaluation of Model"
      ],
      "metadata": {
        "id": "feQ2fFMhVekI"
      }
    },
    {
      "cell_type": "markdown",
      "source": [
        "Evaluasi digunakan untuk melihat apakah model yang dibuat sudah mampu menghasilkan prediksi yang sesuai dengan output aslinya. Akurasi dari model dapat divisualisasikan menggunakan confusion matrix."
      ],
      "metadata": {
        "id": "8kamROGphDB9"
      }
    },
    {
      "cell_type": "code",
      "source": [
        "from sklearn.metrics import confusion_matrix\n",
        "import numpy as np\n",
        "\n",
        "# Prediksi dari test data\n",
        "x = torch.Tensor(x_test).float()\n",
        "_, predicted = torch.max(model(x).data, 1)\n",
        "\n",
        "# Plot confusion matrix\n",
        "cm = confusion_matrix(y_test, predicted.numpy())\n",
        "fig, ax = plt.subplots(figsize=(8, 8))\n",
        "ax.imshow(cm)\n",
        "ax.grid(False)\n",
        "tick_marks = np.arange(len(seeds_classes))\n",
        "plt.xticks(tick_marks, seeds_classes, rotation=45)\n",
        "plt.yticks(tick_marks, seeds_classes)\n",
        "plt.xlabel(\"Predicted Species\")\n",
        "plt.ylabel(\"Actual Species\")\n",
        "for i in range(3):\n",
        "    for j in range(3):\n",
        "        ax.text(j, i, cm[i, j], ha='center', va='center', color='white')\n",
        "plt.show()"
      ],
      "metadata": {
        "colab": {
          "base_uri": "https://localhost:8080/",
          "height": 527
        },
        "id": "ij-IasFt02Mx",
        "outputId": "34e32884-45ec-490c-bf90-f3606f4f5690"
      },
      "execution_count": null,
      "outputs": [
        {
          "output_type": "display_data",
          "data": {
            "text/plain": [
              "<Figure size 576x576 with 1 Axes>"
            ],
            "image/png": "[encoded data removed]"
          },
          "metadata": {
            "needs_background": "light"
          }
        }
      ]
    },
    {
      "cell_type": "markdown",
      "source": [
        "# Using Trained Model for New Input"
      ],
      "metadata": {
        "id": "Py5xBFDjdZed"
      }
    },
    {
      "cell_type": "code",
      "source": [
        "# data baru\n",
        "x = [[5.234,3.111,1.820,5.000]]\n",
        "x = torch.Tensor(x).float()\n",
        "\n",
        "# load model training\n",
        "model = Network()\n",
        "model.load_state_dict(torch.load(model_file))\n",
        "\n",
        "# Output model\n",
        "outputs = model(x).data\n",
        "__, predicted = torch.max(outputs, 1)\n",
        "\n",
        "print('Prediction:',seeds_classes[predicted.item()])"
      ],
      "metadata": {
        "colab": {
          "base_uri": "https://localhost:8080/"
        },
        "id": "W0KDO4rI7_b4",
        "outputId": "a36edc38-06e5-4d92-bee2-e0a8e0be9411"
      },
      "execution_count": null,
      "outputs": [
        {
          "output_type": "stream",
          "name": "stdout",
          "text": [
            "Prediction: Kama\n"
          ]
        }
      ]
    }
  ]
}